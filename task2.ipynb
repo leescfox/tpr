{
 "cells": [
  {
   "attachments": {},
   "cell_type": "markdown",
   "metadata": {},
   "source": [
    "# Карташов Никита Андреевич, гр. 0373\n",
    "\n",
    "## Теория принятия решений. Вариант 140\n"
   ]
  },
  {
   "attachments": {},
   "cell_type": "markdown",
   "metadata": {},
   "source": [
    "### Задача 2\n",
    "\n",
    "Технология краудсорсинга позволяет привлекать широкий круг людей к задачам сбора и обработки информации. Заказчики могут размещать на платформе краудсорсинга задания, назначая за них определенное вознаграждение, а пользователи платформы (исполнители) выполняют эти задания и получают назначенное вознаграждение. Примерами таких платформ являются Amazon Mechanical Turk, Яндекс.Толока. Одной из разновидностей краудсорсинга является пространственный краудсорсинг, при котором задания имеют пространственную привязку (например, с помощью системы пространственного краудсорсинга можно сделать фотографию определенной географической локации в определенный момент).\n",
    "\n",
    "В данной задаче рассматривается один из центральных компонентов платформы пространственного краудсорсинга, осуществляющий распределение заданий среди исполнителей.\n",
    "\n",
    "Задано определенное множество заданий (табл. 1). Каждое задание имеет пространственную привязку. Одной из функций подобной привязки являтся идентификация исполнителей, находящихся рядом с заданием. Для простоты будем полагать, что задания и исполнители находятся в городе Гипподамовой системы, что позволяет использовать локальную систему координат и оценивать расстояние с помощью манхеттенской метрики. Задания считаются достаточно простыми, чтобы любое из них могло быть выполнено любым участником.\n",
    "\n",
    "В заданный момент в системе активно определенное множество участников (табл. 2). Для каждого участника задано текущее положение в локальной системе координат, а также текущий рейтинг (в диапазоне от 0 до 1 - чем больше, тем более надежным является исполнитель).\n",
    "\n",
    "Вознаграждение исполнителя определяется его рейтингом. В частности, задано два граничных уровня рейтинга $Th_{M}=0.3$ (средний) и $Th_{H}=0.7$ (высокий). Участники с высоким рейтингом ($r_{i} \\geq Th_{H}$) получают вознаграждение 110 денежных единиц (ДЕ) за каждое задание, участники со средним рейтингом ($Th_{M} \\leq r_{i} \\lt Th_{H}$) получают вознаграждение 60 ДЕ.\n",
    "Участники с рейтингом ниже $Th_{M}$ считаются заблокированными и к выполнению заданий не привлекаются.\n",
    "\n",
    "Бюджет заказчика на выполнение заданного набора заданий составляет 320 ДЕ.\n",
    "\n",
    "Требуется:\n",
    "\n",
    "1. Считая качество выполнения задания численно равным рейтингу исполнителя, найти распределение (всех) заданий по исполнителям, максимизирующее суммарное качество выполнения заданий.\n",
    "\n",
    "2. Модифицировать целевую функцию с учетом расстояния между заданием и исполнителем (считая, что ожидаемое качество выполнения задания убывает как логарифм от расстояния) и найти распределение заданий с учетом расстояния.\n"
   ]
  },
  {
   "attachments": {},
   "cell_type": "markdown",
   "metadata": {},
   "source": [
    "<div style=\"text-align: center;\"><i>Таблица 1: Задания</i></div>"
   ]
  },
  {
   "attachments": {},
   "cell_type": "markdown",
   "metadata": {},
   "source": [
    "| Идентификатор | x  | y  |\n",
    "|---------------|----|----|\n",
    "| 1             | 9  | 11 |\n",
    "| 2             | 10 | 4  |\n",
    "| 3             | 9  | 8  |\n",
    "| 4             | 1  | 12 |\n"
   ]
  },
  {
   "attachments": {},
   "cell_type": "markdown",
   "metadata": {},
   "source": [
    "<div style=\"text-align: center;\"><i>Таблица 2: Исполнители</i></div>"
   ]
  },
  {
   "attachments": {},
   "cell_type": "markdown",
   "metadata": {},
   "source": [
    "| Идентификатор | x  | y  | Рейтинг |\n",
    "|---------------|----|----|---------|\n",
    "| 1             | 17 | 16 | 0.93    |\n",
    "| 2             | 10 | 10 | 0.35    |\n",
    "| 3             | 7  | 2  | 0.78    |\n",
    "| 4             | 15 | 18 | 0.75    |\n",
    "| 5             | 6  | 14 | 0.83    |\n",
    "| 6             | 11 | 7  | 0.23    |\n",
    "| 7             | 14 | 15 | 0.73    |\n",
    "| 8             | 18 | 0  | 0.32    |\n",
    "| 9             | 17 | 9  | 0.91    |\n",
    "| 10            | 15 | 14 | 0.26    |\n"
   ]
  },
  {
   "attachments": {},
   "cell_type": "markdown",
   "metadata": {},
   "source": [
    "### Выполним постановку задачи:\n",
    "Пусть $N$ - количество заданий,<br>\n",
    "$M$ - количество участников,<br>\n",
    "$B$ - имеющийся бюджет,<br>\n",
    "$x_{ij}$ - <i>бинарная</i> переменная, принимающая значение $1$ в случае назначения задания $i$ участнику $j$ и $0$ в противном случае,<br>\n",
    "$c_{ij}$ - стоимость выполнения задания $i$ участником $j$, причём участники с рейтингом $\\geq 0.7$ получают вознаграждение 110 ДЕ, участники с рейтингом в диапазоне $[0.3, 0.7)$ получают 60 ДЕ, а участники с рейтингом ниже $0.3$ не привлекаются к выполнению заданий;<br>\n",
    "$r_{j}$ - рейтинг участника $j$,<br>\n",
    "$k_{ij}$ - дополнительный коэффициент перед $r_{j}$, принимающий значение $1$ в случае, если соответствующий рейтинг $r_{j} \\geq 0.3$ и $0$ в противном случае;<br>\n",
    "$k_{ij}$, умноженные на соответствующие им $r_{j}$, образуют ожидаемое качество выполнения задания $i$ участником $j$.<br>\n",
    "\n",
    "Целевая функция:\n",
    "$\\displaystyle\\sum_{i=1}^N\\displaystyle\\sum_{j=1}^M{k_{ij}*r_{j}*x_{ij}} \\to max$<br>\n",
    "Ограничения:<br>\n",
    "$\\displaystyle\\sum_{i=1}^N\\displaystyle\\sum_{j=1}^M{c_{ij}*x_{ij}} \\leq B$<br>\n",
    "$\\displaystyle\\sum_{i=1}^N{x_{ij}} \\leq 1$ для $j \\isin \\{1, 2, ..., M\\}$<br>\n",
    "$\\displaystyle\\sum_{i=1}^N\\displaystyle\\sum_{j=1}^M{x_{ij}} = N$<br>\n",
    "$\\displaystyle\\sum_{i=1}^N\\displaystyle\\sum_{j=1}^M{(1-k_{ij})*r_{j}*x_{ij}} = 0$<br>\n",
    "$\\displaystyle\\sum_{j=1}^M{x_{ij}} = 1$ для $i \\isin \\{1, 2, ..., N\\}$<br>"
   ]
  },
  {
   "attachments": {},
   "cell_type": "markdown",
   "metadata": {},
   "source": [
    "### Пункт 1.\n",
    "\n",
    "#### 1.1 Импортируем необходимые для решения модули:\n"
   ]
  },
  {
   "cell_type": "code",
   "execution_count": 42,
   "metadata": {},
   "outputs": [],
   "source": [
    "import math\n",
    "import numpy as np\n",
    "from cvxopt import matrix, glpk"
   ]
  },
  {
   "attachments": {},
   "cell_type": "markdown",
   "metadata": {},
   "source": [
    "#### 1.2 Введём начальные данные:\n"
   ]
  },
  {
   "cell_type": "code",
   "execution_count": 43,
   "metadata": {},
   "outputs": [],
   "source": [
    "tasks = [[9, 11], [10, 4], [9, 8], [1, 12]]\n",
    "budget = 340.0\n",
    "users = [\n",
    "    {\"coords\": [17, 16], \"rating\": 0.93},\n",
    "    {\"coords\": [10, 10], \"rating\": 0.35},\n",
    "    {\"coords\": [7, 2], \"rating\": 0.78},\n",
    "    {\"coords\": [15, 18], \"rating\": 0.75},\n",
    "    {\"coords\": [6, 14], \"rating\": 0.83},\n",
    "    {\"coords\": [11, 7], \"rating\": 0.23},\n",
    "    {\"coords\": [14, 15], \"rating\": 0.73},\n",
    "    {\"coords\": [18, 0], \"rating\": 0.32},\n",
    "    {\"coords\": [17, 9], \"rating\": 0.91},\n",
    "    {\"coords\": [15, 14], \"rating\": 0.26},\n",
    "]"
   ]
  },
  {
   "attachments": {},
   "cell_type": "markdown",
   "metadata": {},
   "source": [
    "#### 1.3 Рассчитаем, какие пользователи могут быть допущены к выполнению задания, а какие нет. Также рассчитаем стоимость их услуг:\n"
   ]
  },
  {
   "cell_type": "code",
   "execution_count": 44,
   "metadata": {},
   "outputs": [],
   "source": [
    "activeUsers = matrix([users[i][\"rating\"] for i in range(len(users))], tc=\"d\").T\n",
    "availableUsers = matrix(\n",
    "    [[activeUsers[i] if activeUsers[i] >= 0.3 else 0]\n",
    "        for i in range(len(activeUsers))],\n",
    "    tc=\"d\",\n",
    ")\n",
    "unavailableUsers = activeUsers - availableUsers\n",
    "cost = matrix(\n",
    "    [\n",
    "        (110 if activeUsers[i] >= 0.7 else 60) if (\n",
    "            activeUsers[i] >= 0.3) else (0)\n",
    "        for i in range(len(activeUsers))\n",
    "    ],\n",
    "    tc=\"d\",\n",
    ")"
   ]
  },
  {
   "attachments": {},
   "cell_type": "markdown",
   "metadata": {},
   "source": [
    "#### 1.4 Составим матрицы для ограничений - одно задание может выполнять только один участник, а также один участник не может выполнять больше одного задания:"
   ]
  },
  {
   "cell_type": "code",
   "execution_count": 45,
   "metadata": {},
   "outputs": [],
   "source": [
    "volume = len(tasks) * len(users)\n",
    "oneManToTask = np.array([])\n",
    "for i in range(0, volume, len(users)):\n",
    "    temp = np.concatenate(\n",
    "        (np.zeros(i), np.ones(len(users)), np.zeros(volume - len(users) - i))\n",
    "    )\n",
    "    if i == 0:\n",
    "        oneManToTask = np.copy(temp)\n",
    "    else:\n",
    "        oneManToTask = np.vstack((oneManToTask, temp))"
   ]
  },
  {
   "cell_type": "code",
   "execution_count": 46,
   "metadata": {},
   "outputs": [],
   "source": [
    "oneTaskMax = np.array([])\n",
    "for i in range(len(users)):\n",
    "    temp = np.concatenate(\n",
    "        (np.zeros(i), np.ones(1), np.zeros(len(users) - i - 1)))\n",
    "    temp = np.tile(temp, len(tasks))\n",
    "    if i == 0:\n",
    "        oneTaskMax = np.copy(temp)\n",
    "    else:\n",
    "        oneTaskMax = np.vstack((oneTaskMax, temp))"
   ]
  },
  {
   "attachments": {},
   "cell_type": "markdown",
   "metadata": {},
   "source": [
    "#### 1.5 Составим целевую функцию и набор ограничений:\n"
   ]
  },
  {
   "cell_type": "code",
   "execution_count": 47,
   "metadata": {},
   "outputs": [],
   "source": [
    "targetFunction = matrix([availableUsers.T for i in range(len(tasks))], tc=\"d\").T\n",
    "inequalityLeft = matrix([[cost for i in range(len(tasks))], [matrix(oneTaskMax).T]], tc=\"d\").T\n",
    "inequalityRight = matrix([budget, matrix(np.ones(len(users)))], tc=\"d\")\n",
    "equalityLeft = matrix(\n",
    "    [\n",
    "        [matrix([[1] for i in range(len(tasks) * len(activeUsers))]).T],\n",
    "        [matrix([unavailableUsers.T for i in range(len(tasks))])],\n",
    "        [matrix(oneManToTask).T],\n",
    "    ],\n",
    "    tc=\"d\",\n",
    ").T\n",
    "equalityRight = matrix([len(tasks), 0, matrix(np.ones(len(tasks)))], tc=\"d\")"
   ]
  },
  {
   "attachments": {},
   "cell_type": "markdown",
   "metadata": {},
   "source": [
    "#### 1.6 С помощью солвера \"glpk\" решим задачу по максимизации целевой функции с учётом всех ограничений. Принимаем во внимание, что получаемые нами переменные $x_{i}$ должны представлять собой булевый тип:\n"
   ]
  },
  {
   "cell_type": "code",
   "execution_count": 48,
   "metadata": {},
   "outputs": [],
   "source": [
    "(status, x) = glpk.ilp(\n",
    "    c=-targetFunction,\n",
    "    G=inequalityLeft,\n",
    "    h=inequalityRight,\n",
    "    A=equalityLeft,\n",
    "    b=equalityRight,\n",
    "    B=set(range(volume)),\n",
    ")"
   ]
  },
  {
   "attachments": {},
   "cell_type": "markdown",
   "metadata": {},
   "source": [
    "#### 1.7 Создадим функцию для вывода:"
   ]
  },
  {
   "cell_type": "code",
   "execution_count": 49,
   "metadata": {},
   "outputs": [],
   "source": [
    "def printResult(resultStatus, resultArray):\n",
    "    print(f\"Статус: {resultStatus}\")\n",
    "    if resultStatus == 'optimal':\n",
    "        print(resultArray)\n",
    "        print(\"Распределение по заданиям:\")\n",
    "        for i in range(len(tasks)):\n",
    "            resultSlice = resultArray[i*len(users) : i*len(users) + len(users)]\n",
    "            for j in range(len(users)):\n",
    "                if(resultSlice.T[j] > 0):\n",
    "                    print(f\"\\nЗадание {1+i}: Участник {1+j}\")\n",
    "                    print(f\"Рейтинг участника: {users[j]['rating']}\")\n",
    "                    print(f\"Эффективность: {round(targetFunction[len(users)*i+j], 4)}\")\n",
    "                    print(f\"Оплата: {cost[j]}\")\n",
    "                    break\n",
    "    else:\n",
    "        print(\"Оптимальное решение не было найдено.\")"
   ]
  },
  {
   "attachments": {},
   "cell_type": "markdown",
   "metadata": {},
   "source": [
    "#### 1.8 Выведем и проинтерпретируем результат:\n"
   ]
  },
  {
   "cell_type": "code",
   "execution_count": 50,
   "metadata": {},
   "outputs": [
    {
     "name": "stdout",
     "output_type": "stream",
     "text": [
      "Статус: optimal\n",
      "[ 0.00e+00]\n",
      "[ 1.00e+00]\n",
      "[ 0.00e+00]\n",
      "[ 0.00e+00]\n",
      "[ 0.00e+00]\n",
      "[ 0.00e+00]\n",
      "[ 0.00e+00]\n",
      "[ 0.00e+00]\n",
      "[ 0.00e+00]\n",
      "[ 0.00e+00]\n",
      "[ 0.00e+00]\n",
      "[ 0.00e+00]\n",
      "[ 0.00e+00]\n",
      "[ 0.00e+00]\n",
      "[ 0.00e+00]\n",
      "[ 0.00e+00]\n",
      "[ 0.00e+00]\n",
      "[ 1.00e+00]\n",
      "[ 0.00e+00]\n",
      "[ 0.00e+00]\n",
      "[ 1.00e+00]\n",
      "[ 0.00e+00]\n",
      "[ 0.00e+00]\n",
      "[ 0.00e+00]\n",
      "[ 0.00e+00]\n",
      "[ 0.00e+00]\n",
      "[ 0.00e+00]\n",
      "[ 0.00e+00]\n",
      "[ 0.00e+00]\n",
      "[ 0.00e+00]\n",
      "[ 0.00e+00]\n",
      "[ 0.00e+00]\n",
      "[ 0.00e+00]\n",
      "[ 0.00e+00]\n",
      "[ 0.00e+00]\n",
      "[ 0.00e+00]\n",
      "[ 0.00e+00]\n",
      "[ 0.00e+00]\n",
      "[ 1.00e+00]\n",
      "[ 0.00e+00]\n",
      "\n",
      "Распределение по заданиям:\n",
      "\n",
      "Задание 1: Участник 2\n",
      "Рейтинг участника: 0.35\n",
      "Эффективность: 0.35\n",
      "Оплата: 60.0\n",
      "\n",
      "Задание 2: Участник 8\n",
      "Рейтинг участника: 0.32\n",
      "Эффективность: 0.32\n",
      "Оплата: 60.0\n",
      "\n",
      "Задание 3: Участник 1\n",
      "Рейтинг участника: 0.93\n",
      "Эффективность: 0.93\n",
      "Оплата: 110.0\n",
      "\n",
      "Задание 4: Участник 9\n",
      "Рейтинг участника: 0.91\n",
      "Эффективность: 0.91\n",
      "Оплата: 110.0\n"
     ]
    }
   ],
   "source": [
    "printResult(status, x)"
   ]
  },
  {
   "attachments": {},
   "cell_type": "markdown",
   "metadata": {},
   "source": [
    "### Пункт 2.\n",
    "\n",
    "#### 2.1 Создадим функцию подсчёта коэффициента, зависящего от расстояния между заданием и участником:"
   ]
  },
  {
   "cell_type": "code",
   "execution_count": 51,
   "metadata": {},
   "outputs": [],
   "source": [
    "def distCoefficient(location1, location2):\n",
    "    logBase = 2\n",
    "    distance = 0.0\n",
    "    for i in range(len(location1)):\n",
    "        distance += abs(location1[i] - location2[i])\n",
    "    return (1 if (distance < logBase) else (1/math.log(distance, logBase))**1)"
   ]
  },
  {
   "attachments": {},
   "cell_type": "markdown",
   "metadata": {},
   "source": [
    "#### 2.2 Рассчитаем коэффициенты эффективности выполнения заданий с учётом расстояния до них и модифицируем функцию цели с учётом этих коэффициентов:"
   ]
  },
  {
   "cell_type": "code",
   "execution_count": 52,
   "metadata": {},
   "outputs": [],
   "source": [
    "coefficients = np.array([])\n",
    "for i in range(len(tasks)):\n",
    "    for j in range(len(users)):\n",
    "        coefficients = np.append(coefficients, distCoefficient(users[j]['coords'], tasks[i]))\n",
    "targetFunction = matrix([targetFunction[i]*coefficients[i] for i in range(volume)], tc='d')"
   ]
  },
  {
   "attachments": {},
   "cell_type": "markdown",
   "metadata": {},
   "source": [
    "#### 2.3 С помощью солвера \"glpk\" решим задачу по максимизации модифицированной целевой функции:"
   ]
  },
  {
   "cell_type": "code",
   "execution_count": 53,
   "metadata": {},
   "outputs": [],
   "source": [
    "(status2, x2) = glpk.ilp(\n",
    "    c=-targetFunction,\n",
    "    G=inequalityLeft,\n",
    "    h=inequalityRight,\n",
    "    A=equalityLeft,\n",
    "    b=equalityRight,\n",
    "    B=set(range(volume)),\n",
    ")"
   ]
  },
  {
   "attachments": {},
   "cell_type": "markdown",
   "metadata": {},
   "source": [
    "#### 2.4 Выведем и проинтерпретируем результат:"
   ]
  },
  {
   "cell_type": "code",
   "execution_count": 54,
   "metadata": {},
   "outputs": [
    {
     "name": "stdout",
     "output_type": "stream",
     "text": [
      "Статус: optimal\n",
      "[ 0.00e+00]\n",
      "[ 1.00e+00]\n",
      "[ 0.00e+00]\n",
      "[ 0.00e+00]\n",
      "[ 0.00e+00]\n",
      "[ 0.00e+00]\n",
      "[ 0.00e+00]\n",
      "[ 0.00e+00]\n",
      "[ 0.00e+00]\n",
      "[ 0.00e+00]\n",
      "[ 0.00e+00]\n",
      "[ 0.00e+00]\n",
      "[ 1.00e+00]\n",
      "[ 0.00e+00]\n",
      "[ 0.00e+00]\n",
      "[ 0.00e+00]\n",
      "[ 0.00e+00]\n",
      "[ 0.00e+00]\n",
      "[ 0.00e+00]\n",
      "[ 0.00e+00]\n",
      "[ 0.00e+00]\n",
      "[ 0.00e+00]\n",
      "[ 0.00e+00]\n",
      "[ 0.00e+00]\n",
      "[ 0.00e+00]\n",
      "[ 0.00e+00]\n",
      "[ 0.00e+00]\n",
      "[ 1.00e+00]\n",
      "[ 0.00e+00]\n",
      "[ 0.00e+00]\n",
      "[ 0.00e+00]\n",
      "[ 0.00e+00]\n",
      "[ 0.00e+00]\n",
      "[ 0.00e+00]\n",
      "[ 1.00e+00]\n",
      "[ 0.00e+00]\n",
      "[ 0.00e+00]\n",
      "[ 0.00e+00]\n",
      "[ 0.00e+00]\n",
      "[ 0.00e+00]\n",
      "\n",
      "Распределение по заданиям:\n",
      "\n",
      "Задание 1: Участник 2\n",
      "Рейтинг участника: 0.35\n",
      "Эффективность: 0.35\n",
      "Оплата: 60.0\n",
      "\n",
      "Задание 2: Участник 3\n",
      "Рейтинг участника: 0.78\n",
      "Эффективность: 0.3359\n",
      "Оплата: 110.0\n",
      "\n",
      "Задание 3: Участник 8\n",
      "Рейтинг участника: 0.32\n",
      "Эффективность: 0.0783\n",
      "Оплата: 60.0\n",
      "\n",
      "Задание 4: Участник 5\n",
      "Рейтинг участника: 0.83\n",
      "Эффективность: 0.2957\n",
      "Оплата: 110.0\n"
     ]
    }
   ],
   "source": [
    "printResult(status2, x2)"
   ]
  }
 ],
 "metadata": {
  "kernelspec": {
   "display_name": "Python 3",
   "language": "python",
   "name": "python3"
  },
  "language_info": {
   "codemirror_mode": {
    "name": "ipython",
    "version": 3
   },
   "file_extension": ".py",
   "mimetype": "text/x-python",
   "name": "python",
   "nbconvert_exporter": "python",
   "pygments_lexer": "ipython3",
   "version": "3.9.2"
  },
  "orig_nbformat": 4
 },
 "nbformat": 4,
 "nbformat_minor": 2
}
