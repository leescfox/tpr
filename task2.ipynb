{
 "cells": [
  {
   "attachments": {},
   "cell_type": "markdown",
   "metadata": {},
   "source": [
    "# Карташов Никита Андреевич, гр. 0373\n",
    "\n",
    "## Теория принятия решений. Вариант 140\n"
   ]
  },
  {
   "attachments": {},
   "cell_type": "markdown",
   "metadata": {},
   "source": [
    "### Задача 2\n",
    "\n",
    "Технология краудсорсинга позволяет привлекать широкий круг людей к задачам сбора и обработки информации. Заказчики могут размещать на платформе краудсорсинга задания, назначая за них определенное вознаграждение, а пользователи платформы (исполнители) выполняют эти задания и получают назначенное вознаграждение. Примерами таких платформ являются Amazon Mechanical Turk, Яндекс.Толока. Одной из разновидностей краудсорсинга является пространственный краудсорсинг, при котором задания имеют пространственную привязку (например, с помощью системы пространственного краудсорсинга можно сделать фотографию определенной географической локации в определенный момент).\n",
    "\n",
    "В данной задаче рассматривается один из центральных компонентов платформы пространственного краудсорсинга, осуществляющий распределение заданий среди исполнителей.\n",
    "\n",
    "Задано определенное множество заданий (табл. 1). Каждое задание имеет пространственную привязку. Одной из функций подобной привязки являтся идентификация исполнителей, находящихся рядом с заданием. Для простоты будем полагать, что задания и исполнители находятся в городе Гипподамовой системы, что позволяет использовать локальную систему координат и оценивать расстояние с помощью манхеттенской метрики. Задания считаются достаточно простыми, чтобы любое из них могло быть выполнено любым участником.\n",
    "\n",
    "В заданный момент в системе активно определенное множество участников (табл. 2). Для каждого участника задано текущее положение в локальной системе координат, а также текущий рейтинг (в диапазоне от 0 до 1 - чем больше, тем более надежным является исполнитель).\n",
    "\n",
    "Вознаграждение исполнителя определяется его рейтингом. В частности, задано два граничных уровня рейтинга $Th_{M}=0.3$ (средний) и $Th_{H}=0.7$ (высокий). Участники с высоким рейтингом ($r_{i} \\geq Th_{H}$) получают вознаграждение 110 денежных единиц (ДЕ) за каждое задание, участники со средним рейтингом ($Th_{M} \\leq r_{i} \\lt Th_{H}$) получают вознаграждение 60 ДЕ.\n",
    "Участники с рейтингом ниже $Th_{M}$ считаются заблокированными и к выполнению заданий не привлекаются.\n",
    "\n",
    "Бюджет заказчика на выполнение заданного набора заданий составляет 320 ДЕ.\n",
    "\n",
    "Требуется:\n",
    "\n",
    "1. Считая качество выполнения задания численно равным рейтингу исполнителя, найти распределение (всех) заданий по исполнителям, максимизирующее суммарное качество выполнения заданий.\n",
    "\n",
    "2. Модифицировать целевую функцию с учетом расстояния между заданием и исполнителем (считая, что ожидаемое качество выполнения задания убывает как логарифм от расстояния) и найти распределение заданий с учетом расстояния.\n"
   ]
  },
  {
   "attachments": {},
   "cell_type": "markdown",
   "metadata": {},
   "source": [
    "_Таблица 1: Задания_\n",
    "| Идентификатор | x | y |\n",
    "|---------------|----|----|\n",
    "| 1 | 9 | 11 |\n",
    "| 2 | 10 | 4 |\n",
    "| 3 | 9 | 8 |\n",
    "| 4 | 1 | 12 |\n"
   ]
  },
  {
   "attachments": {},
   "cell_type": "markdown",
   "metadata": {},
   "source": [
    "_Таблица 2: Исполнители_\n",
    "| Идентификатор | x | y | Рейтинг |\n",
    "|---------------|----|----|---------|\n",
    "| 1 | 17 | 16 | 0.93 |\n",
    "| 2 | 10 | 10 | 0.35 |\n",
    "| 3 | 7 | 2 | 0.78 |\n",
    "| 4 | 15 | 18 | 0.75 |\n",
    "| 5 | 6 | 14 | 0.83 |\n",
    "| 6 | 11 | 7 | 0.23 |\n",
    "| 7 | 14 | 15 | 0.73 |\n",
    "| 8 | 18 | 0 | 0.32 |\n",
    "| 9 | 17 | 9 | 0.91 |\n",
    "| 10 | 15 | 14 | 0.26 |\n"
   ]
  },
  {
   "attachments": {},
   "cell_type": "markdown",
   "metadata": {},
   "source": [
    "### Пункт 1.\n",
    "\n",
    "#### 1.1 Импортируем необходимые для решения модули:\n"
   ]
  },
  {
   "cell_type": "code",
   "execution_count": 533,
   "metadata": {},
   "outputs": [],
   "source": [
    "import math\n",
    "import numpy as np\n",
    "from cvxopt import matrix, glpk, solvers\n",
    "from cvxopt.modeling import variable, op, blas, dot\n"
   ]
  },
  {
   "attachments": {},
   "cell_type": "markdown",
   "metadata": {},
   "source": [
    "#### 1.2 Введём начальные данные:\n"
   ]
  },
  {
   "cell_type": "code",
   "execution_count": 534,
   "metadata": {},
   "outputs": [],
   "source": [
    "tasks = [[9, 11], [10, 4], [9, 8], [1, 12]]\n",
    "budget = 340.0\n",
    "users = [\n",
    "    {\"coords\": [17, 16], \"rating\": 0.93},\n",
    "    {\"coords\": [10, 10], \"rating\": 0.35},\n",
    "    {\"coords\": [7, 2], \"rating\": 0.78},\n",
    "    {\"coords\": [15, 18], \"rating\": 0.75},\n",
    "    {\"coords\": [6, 14], \"rating\": 0.83},\n",
    "    {\"coords\": [11, 7], \"rating\": 0.23},\n",
    "    {\"coords\": [14, 15], \"rating\": 0.73},\n",
    "    {\"coords\": [18, 0], \"rating\": 0.32},\n",
    "    {\"coords\": [17, 9], \"rating\": 0.91},\n",
    "    {\"coords\": [15, 14], \"rating\": 0.26},\n",
    "]"
   ]
  },
  {
   "attachments": {},
   "cell_type": "markdown",
   "metadata": {},
   "source": [
    "#### 1.3 Рассчитаем, какие пользователи могут быть допущены к выполнению задания, а какие нет. Также рассчитаем стоимость их услуг:\n"
   ]
  },
  {
   "cell_type": "code",
   "execution_count": 535,
   "metadata": {},
   "outputs": [],
   "source": [
    "activeUsers = matrix([users[i][\"rating\"] for i in range(len(users))], tc=\"d\").T\n",
    "availableUsers = matrix(\n",
    "    [[activeUsers[i] if activeUsers[i] >= 0.3 else 0]\n",
    "        for i in range(len(activeUsers))],\n",
    "    tc=\"d\",\n",
    ")\n",
    "unavailableUsers = activeUsers - availableUsers\n",
    "cost = matrix(\n",
    "    [\n",
    "        (110 if activeUsers[i] >= 0.7 else 60) if (\n",
    "            activeUsers[i] >= 0.3) else (0)\n",
    "        for i in range(len(activeUsers))\n",
    "    ],\n",
    "    tc=\"d\",\n",
    ")"
   ]
  },
  {
   "attachments": {},
   "cell_type": "markdown",
   "metadata": {},
   "source": [
    "#### 1.4 Составим целевую функцию и набор ограничений:\n"
   ]
  },
  {
   "cell_type": "code",
   "execution_count": 536,
   "metadata": {},
   "outputs": [],
   "source": [
    "targetFunction = matrix(availableUsers, tc=\"d\")\n",
    "inequalityLeft = matrix([cost], tc=\"d\").T\n",
    "inequalityRight = matrix([budget], tc=\"d\")\n",
    "equalityLeft = matrix(\n",
    "    [matrix([[1] for i in range(len(activeUsers))]), unavailableUsers], tc=\"d\"\n",
    ")\n",
    "equalityRight = matrix([len(tasks), 0], tc=\"d\")"
   ]
  },
  {
   "attachments": {},
   "cell_type": "markdown",
   "metadata": {},
   "source": [
    "#### 1.5 С помощью солвера \"glpk\" решим задачу по максимизации целевой функции с учётом всех ограничений. Принимаем во внимание, что получаемые нами переменные $x_{i}$ должны представлять собой булевый тип:\n"
   ]
  },
  {
   "cell_type": "code",
   "execution_count": 537,
   "metadata": {},
   "outputs": [],
   "source": [
    "(status, x) = glpk.ilp(\n",
    "    c=-targetFunction,\n",
    "    G=inequalityLeft,\n",
    "    h=inequalityRight,\n",
    "    A=equalityLeft,\n",
    "    b=equalityRight,\n",
    "    B=set(range(len(activeUsers))),\n",
    ")"
   ]
  },
  {
   "attachments": {},
   "cell_type": "markdown",
   "metadata": {},
   "source": [
    "#### 1.6 Интерпретируем результат:\n"
   ]
  },
  {
   "cell_type": "code",
   "execution_count": 538,
   "metadata": {},
   "outputs": [
    {
     "name": "stdout",
     "output_type": "stream",
     "text": [
      "Статус: optimal\n",
      "Вектор получившихся переменных X:\n",
      "[ 1.00e+00]\n",
      "[ 1.00e+00]\n",
      "[ 0.00e+00]\n",
      "[ 0.00e+00]\n",
      "[ 0.00e+00]\n",
      "[ 0.00e+00]\n",
      "[ 0.00e+00]\n",
      "[ 1.00e+00]\n",
      "[ 1.00e+00]\n",
      "[ 0.00e+00]\n",
      "\n"
     ]
    }
   ],
   "source": [
    "print(f\"Статус: {status}\")\n",
    "print(\n",
    "    f\"Вектор получившихся переменных X:\\n{x}\"\n",
    "    if (status == \"optimal\")\n",
    "    else \"Задача не имеет оптимального решения.\"\n",
    ")\n",
    "# print(matrix([[x],[targetFunction.T], [cost]]))\n"
   ]
  },
  {
   "attachments": {},
   "cell_type": "markdown",
   "metadata": {},
   "source": [
    "### Пункт 2.\n",
    "\n",
    "#### 2.1 :\n"
   ]
  },
  {
   "cell_type": "code",
   "execution_count": 539,
   "metadata": {},
   "outputs": [],
   "source": [
    "volume = len(tasks) * len(users)\n",
    "oneManToTask = np.array([])\n",
    "for i in range(0, volume, len(users)):\n",
    "    temp = np.concatenate(\n",
    "        (np.zeros(i), np.ones(len(users)), np.zeros(volume - len(users) - i))\n",
    "    )\n",
    "    if i == 0:\n",
    "        oneManToTask = np.copy(temp)\n",
    "    else:\n",
    "        oneManToTask = np.vstack((oneManToTask, temp))"
   ]
  },
  {
   "cell_type": "code",
   "execution_count": 540,
   "metadata": {},
   "outputs": [],
   "source": [
    "oneTaskMax = np.array([])\n",
    "for i in range(len(users)):\n",
    "    temp = np.concatenate(\n",
    "        (np.zeros(i), np.ones(1), np.zeros(len(users) - i - 1)))\n",
    "    temp = np.tile(temp, len(tasks))\n",
    "    if i == 0:\n",
    "        oneTaskMax = np.copy(temp)\n",
    "    else:\n",
    "        oneTaskMax = np.vstack((oneTaskMax, temp))"
   ]
  },
  {
   "cell_type": "code",
   "execution_count": 541,
   "metadata": {},
   "outputs": [
    {
     "name": "stdout",
     "output_type": "stream",
     "text": [
      "[ 3.40e+02]\n",
      "[ 1.00e+00]\n",
      "[ 1.00e+00]\n",
      "[ 1.00e+00]\n",
      "[ 1.00e+00]\n",
      "[ 1.00e+00]\n",
      "[ 1.00e+00]\n",
      "[ 1.00e+00]\n",
      "[ 1.00e+00]\n",
      "[ 1.00e+00]\n",
      "[ 1.00e+00]\n",
      "\n"
     ]
    }
   ],
   "source": [
    "targetFunction = matrix([availableUsers.T for i in range(len(tasks))], tc=\"d\").T\n",
    "inequalityLeft = matrix([[cost for i in range(len(tasks))], [matrix(oneTaskMax).T]], tc=\"d\").T\n",
    "inequalityRight = matrix([budget, matrix(np.ones(len(users)))], tc=\"d\")\n",
    "print(inequalityRight)\n",
    "equalityLeft = matrix(\n",
    "    [\n",
    "        [matrix([[1] for i in range(len(tasks) * len(activeUsers))]).T],\n",
    "        [matrix([unavailableUsers.T for i in range(len(tasks))])],\n",
    "        [matrix(oneManToTask).T],\n",
    "    ],\n",
    "    tc=\"d\",\n",
    ").T\n",
    "equalityRight = matrix([len(tasks), 0, matrix(np.ones(len(tasks)))], tc=\"d\")"
   ]
  },
  {
   "cell_type": "code",
   "execution_count": 542,
   "metadata": {},
   "outputs": [
    {
     "name": "stdout",
     "output_type": "stream",
     "text": [
      "Статус: optimal\n",
      "Распределение по заданиям:\n",
      "\n",
      "Задание 1: Участник 2\n",
      "Рейтинг участника: 0.35\n",
      "Оплата: 60.0\n",
      "\n",
      "Задание 2: Участник 8\n",
      "Рейтинг участника: 0.32\n",
      "Оплата: 60.0\n",
      "\n",
      "Задание 3: Участник 1\n",
      "Рейтинг участника: 0.93\n",
      "Оплата: 110.0\n",
      "\n",
      "Задание 4: Участник 9\n",
      "Рейтинг участника: 0.91\n",
      "Оплата: 110.0\n"
     ]
    }
   ],
   "source": [
    "(status2, x2) = glpk.ilp(\n",
    "    c=-targetFunction,\n",
    "    G=inequalityLeft,\n",
    "    h=inequalityRight,\n",
    "    A=equalityLeft,\n",
    "    b=equalityRight,\n",
    "    B=set(range(volume)),\n",
    ")\n",
    "print(f\"Статус: {status2}\")\n",
    "print(\"Распределение по заданиям:\")\n",
    "for i in range(len(tasks)):\n",
    "    resultSlice = x2[i*len(users) : i*len(users) + len(users)]\n",
    "    for j in range(len(users)):\n",
    "        if(resultSlice.T[j] > 0):\n",
    "            print(f\"\\nЗадание {1+i}: Участник {1+j}\")\n",
    "            print(f\"Рейтинг участника: {users[j]['rating']}\")\n",
    "            print(f\"Оплата: {cost[j]}\")\n",
    "            break\n",
    "    # print(\n",
    "    #     f\"Распределение на задание {1+i}:\\n{resultSlice}\")\n",
    "# и коэффициенты расстояний"
   ]
  }
 ],
 "metadata": {
  "kernelspec": {
   "display_name": "Python 3",
   "language": "python",
   "name": "python3"
  },
  "language_info": {
   "codemirror_mode": {
    "name": "ipython",
    "version": 3
   },
   "file_extension": ".py",
   "mimetype": "text/x-python",
   "name": "python",
   "nbconvert_exporter": "python",
   "pygments_lexer": "ipython3",
   "version": "3.11.2"
  },
  "orig_nbformat": 4
 },
 "nbformat": 4,
 "nbformat_minor": 2
}
