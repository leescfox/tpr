{
 "cells": [
  {
   "cell_type": "code",
   "execution_count": 362,
   "metadata": {},
   "outputs": [],
   "source": [
    "import math\n",
    "import numpy as np\n",
    "from cvxopt import matrix, glpk, solvers\n",
    "from cvxopt.modeling import variable, op, blas, dot"
   ]
  },
  {
   "cell_type": "code",
   "execution_count": 363,
   "metadata": {},
   "outputs": [],
   "source": [
    "# reputation = matrix([0.93, 0.35, 0.78, 0.75, 0.83, 0.23, 0.73, 0.32, 0.91, 0.26], tc='d')\n",
    "# cost = matrix([(110 if reputation[i] >= 0.7 else 60) if (reputation[i] >= 0.3) else 0 for i in range(len(reputation))], tc='d')\n",
    "# budget = 320.\n",
    "# x = variable(len(reputation), 'x')\n",
    "# constraint1 = (dot(x, cost) <= budget)\n",
    "# constraint2 = (sum(x) == 4)\n",
    "# targetFunction = (-sum((x[i]*reputation[i] if cost[i] > 0 else 0) for i in range(len(reputation))))\n",
    "# (status, result) = glpk.ilp()"
   ]
  },
  {
   "cell_type": "code",
   "execution_count": 364,
   "metadata": {},
   "outputs": [],
   "source": [
    "amountOfJobs = 4\n",
    "budget = 320.\n",
    "reputationArray = [0.93, 0.35, 0.78, 0.75, 0.83, 0.23, 0.73, 0.32, 0.91, 0.26]"
   ]
  },
  {
   "cell_type": "code",
   "execution_count": 365,
   "metadata": {},
   "outputs": [
    {
     "name": "stdout",
     "output_type": "stream",
     "text": [
      "optimal\n",
      "[ 1.00e+00]\n",
      "[ 1.00e+00]\n",
      "[ 0.00e+00]\n",
      "[ 0.00e+00]\n",
      "[ 0.00e+00]\n",
      "[ 0.00e+00]\n",
      "[ 0.00e+00]\n",
      "[ 0.00e+00]\n",
      "[ 1.00e+00]\n",
      "[ 1.00e+00]\n",
      "\n",
      "[ 1.00e+00  9.30e-01  1.10e+02]\n",
      "[ 1.00e+00  3.50e-01  6.00e+01]\n",
      "[ 0.00e+00  7.80e-01  1.10e+02]\n",
      "[ 0.00e+00  7.50e-01  1.10e+02]\n",
      "[ 0.00e+00  8.30e-01  1.10e+02]\n",
      "[ 0.00e+00  2.30e-01  0.00e+00]\n",
      "[ 0.00e+00  7.30e-01  1.10e+02]\n",
      "[ 0.00e+00  3.20e-01  6.00e+01]\n",
      "[ 1.00e+00  9.10e-01  1.10e+02]\n",
      "[ 1.00e+00  2.60e-01  0.00e+00]\n",
      "\n"
     ]
    }
   ],
   "source": [
    "availableUsers = matrix(reputationArray, tc='d')\n",
    "cost = matrix([(110 if availableUsers[i] >= 0.7 else 60) if (availableUsers[i] >= 0.3) else 0 for i in range(len(availableUsers))], tc='d')\n",
    "inequalitiesLeftSide = matrix([cost.T], tc='d')\n",
    "inequalitiesRightSide = matrix([budget], tc='d')\n",
    "equalitiesLeftSide = matrix([[1] for i in range(len(availableUsers))], tc='d')\n",
    "equalitiesRightSide = matrix([amountOfJobs], tc='d')\n",
    "targetFunction = matrix([[availableUsers[i] if availableUsers[i] >= 0.3 else 0] for i in range(len(availableUsers))], tc='d')\n",
    "(status, x) = glpk.ilp(c=-targetFunction, G=inequalitiesLeftSide, h=inequalitiesRightSide, A=equalitiesLeftSide, b=equalitiesRightSide, B=set(range(len(availableUsers))))\n",
    "print(status)\n",
    "print(x)\n",
    "print(matrix([[x],[availableUsers], [cost]]))"
   ]
  }
 ],
 "metadata": {
  "kernelspec": {
   "display_name": "Python 3",
   "language": "python",
   "name": "python3"
  },
  "language_info": {
   "codemirror_mode": {
    "name": "ipython",
    "version": 3
   },
   "file_extension": ".py",
   "mimetype": "text/x-python",
   "name": "python",
   "nbconvert_exporter": "python",
   "pygments_lexer": "ipython3",
   "version": "3.9.2"
  },
  "orig_nbformat": 4
 },
 "nbformat": 4,
 "nbformat_minor": 2
}
