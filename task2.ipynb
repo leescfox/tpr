{
 "cells": [
  {
   "cell_type": "code",
   "execution_count": 676,
   "metadata": {},
   "outputs": [],
   "source": [
    "import math\n",
    "import numpy as np\n",
    "from cvxopt import matrix, glpk, solvers\n",
    "from cvxopt.modeling import variable, op, blas, dot"
   ]
  },
  {
   "cell_type": "code",
   "execution_count": 677,
   "metadata": {},
   "outputs": [],
   "source": [
    "# reputation = matrix([0.93, 0.35, 0.78, 0.75, 0.83, 0.23, 0.73, 0.32, 0.91, 0.26], tc='d')\n",
    "# cost = matrix([(110 if reputation[i] >= 0.7 else 60) if (reputation[i] >= 0.3) else 0 for i in range(len(reputation))], tc='d')\n",
    "# budget = 320.\n",
    "# x = variable(len(reputation), 'x')\n",
    "# constraint1 = (dot(x, cost) <= budget)\n",
    "# constraint2 = (sum(x) == 4)\n",
    "# targetFunction = (-sum((x[i]*reputation[i] if cost[i] > 0 else 0) for i in range(len(reputation))))\n",
    "# (status, result) = glpk.ilp()"
   ]
  },
  {
   "cell_type": "code",
   "execution_count": 678,
   "metadata": {},
   "outputs": [
    {
     "name": "stdout",
     "output_type": "stream",
     "text": [
      "[0.93, 0.35, 0.78, 0.75, 0.83, 0.73, 0.32, 0.91]\n"
     ]
    }
   ],
   "source": [
    "amountOfJobs = 4\n",
    "budget = 320.\n",
    "reputations = [0.93, 0.35, 0.78, 0.75, 0.83, 0.23, 0.73, 0.32, 0.91, 0.26]\n",
    "reputationArray = list(filter(lambda num: num >= 0.3, reputations))\n",
    "print(reputationArray)"
   ]
  },
  {
   "cell_type": "code",
   "execution_count": 679,
   "metadata": {},
   "outputs": [
    {
     "name": "stdout",
     "output_type": "stream",
     "text": [
      "[ 1.10e+02 -1.00e+00 -0.00e+00 -0.00e+00 -0.00e+00 -0.00e+00 -0.00e+00 ... ]\n",
      "[ 6.00e+01 -0.00e+00 -1.00e+00 -0.00e+00 -0.00e+00 -0.00e+00 -0.00e+00 ... ]\n",
      "[ 1.10e+02 -0.00e+00 -0.00e+00 -1.00e+00 -0.00e+00 -0.00e+00 -0.00e+00 ... ]\n",
      "[ 1.10e+02 -0.00e+00 -0.00e+00 -0.00e+00 -1.00e+00 -0.00e+00 -0.00e+00 ... ]\n",
      "[ 1.10e+02 -0.00e+00 -0.00e+00 -0.00e+00 -0.00e+00 -1.00e+00 -0.00e+00 ... ]\n",
      "[ 1.10e+02 -0.00e+00 -0.00e+00 -0.00e+00 -0.00e+00 -0.00e+00 -1.00e+00 ... ]\n",
      "[ 6.00e+01 -0.00e+00 -0.00e+00 -0.00e+00 -0.00e+00 -0.00e+00 -0.00e+00 ... ]\n",
      "[ 1.10e+02 -0.00e+00 -0.00e+00 -0.00e+00 -0.00e+00 -0.00e+00 -0.00e+00 ... ]\n",
      "\n",
      "[ 3.20e+02  0.00e+00  0.00e+00  0.00e+00  0.00e+00  0.00e+00  0.00e+00 ... ]\n",
      "\n",
      "LP relaxation is primal infeasible\n"
     ]
    }
   ],
   "source": [
    "availableUsers = matrix(reputationArray, tc='d')\n",
    "cost = matrix([(110 if availableUsers[i] >= 0.7 else 60) if (availableUsers[i] >= 0.3) else 0 for i in range(len(availableUsers))], tc='d')\n",
    "inequalitiesLeftSide = matrix([[cost], [matrix(-1*np.identity(len(availableUsers), dtype='float'))]], tc='d').T\n",
    "\n",
    "inequalitiesRightSide = matrix([budget, matrix(np.zeros(len(availableUsers)))], tc='d')\n",
    "\n",
    "equalitiesLeftSide = matrix([[1] for i in range(len(availableUsers))], tc='d')\n",
    "equalitiesRightSide = matrix([amountOfJobs], tc='d')\n",
    "\n",
    "targetFunction = matrix([[availableUsers[i] if availableUsers[i] >= 0.3 else 0] for i in range(len(availableUsers))], tc='d')\n",
    "print(inequalitiesLeftSide.T)\n",
    "print(inequalitiesRightSide.T)\n",
    "(status, x) = glpk.ilp(c=-targetFunction, G=inequalitiesLeftSide, h=inequalitiesRightSide, A=equalitiesLeftSide, b=equalitiesRightSide, B=set(range(len(availableUsers))))\n",
    "print(status)\n",
    "# print(matrix([[x],[targetFunction.T], [cost]]))"
   ]
  }
 ],
 "metadata": {
  "kernelspec": {
   "display_name": "Python 3",
   "language": "python",
   "name": "python3"
  },
  "language_info": {
   "codemirror_mode": {
    "name": "ipython",
    "version": 3
   },
   "file_extension": ".py",
   "mimetype": "text/x-python",
   "name": "python",
   "nbconvert_exporter": "python",
   "pygments_lexer": "ipython3",
   "version": "3.9.2"
  },
  "orig_nbformat": 4
 },
 "nbformat": 4,
 "nbformat_minor": 2
}
