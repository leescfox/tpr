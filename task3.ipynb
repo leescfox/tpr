{
 "cells": [
  {
   "cell_type": "code",
   "execution_count": 19,
   "metadata": {},
   "outputs": [],
   "source": [
    "import math\n",
    "import numpy as np\n",
    "from cvxopt import matrix, glpk\n",
    "\n",
    "import sys\n",
    "np.set_printoptions(threshold=sys.maxsize)"
   ]
  },
  {
   "cell_type": "code",
   "execution_count": 20,
   "metadata": {},
   "outputs": [],
   "source": [
    "need = [\n",
    "    {\"morning\": [8, 8], \"evening\": [7, 6]},  # monday\n",
    "    {\"morning\": [6, 5], \"evening\": [4, 5]},  # tuesday\n",
    "    {\"morning\": [6, 5], \"evening\": [4, 4]},  # wednesday\n",
    "    {\"morning\": [5, 6], \"evening\": [6, 7]},  # thursday\n",
    "    {\"morning\": [7, 8], \"evening\": [8, 9]},  # friday\n",
    "    {\"morning\": [9, 8], \"evening\": [7, 6]},  # saturday\n",
    "    {\"morning\": [6, 5], \"evening\": [4, 4]},  # sunday\n",
    "]\n",
    "daysToWork = 5\n",
    "regularMonthPayment = 51200\n",
    "regularHourPayment = regularMonthPayment/4/40\n",
    "temporaryHourPayment = 380"
   ]
  },
  {
   "cell_type": "code",
   "execution_count": 21,
   "metadata": {},
   "outputs": [],
   "source": [
    "regularPeopleByDay = [\n",
    "    [1, 0, 0, 1, 1, 1, 1, 0, 0, 0, 0, 0, 0, 0],\n",
    "    [1, 1, 0, 0, 1, 1, 1, 0, 0, 0, 0, 0, 0, 0],\n",
    "    [1, 1, 1, 0, 0, 1, 1, 0, 0, 0, 0, 0, 0, 0],\n",
    "    [1, 1, 1, 1, 0, 0, 1, 0, 0, 0, 0, 0, 0, 0],\n",
    "    [1, 1, 1, 1, 1, 0, 0, 0, 0, 0, 0, 0, 0, 0],\n",
    "    [0, 1, 1, 1, 1, 1, 0, 0, 0, 0, 0, 0, 0, 0],\n",
    "    [0, 0, 1, 1, 1, 1, 1, 0, 0, 0, 0, 0, 0, 0],\n",
    "    #\n",
    "    [0, 0, 0, 0, 0, 0, 0, 1, 0, 0, 1, 1, 1, 1],\n",
    "    [0, 0, 0, 0, 0, 0, 0, 1, 1, 0, 0, 1, 1, 1],\n",
    "    [0, 0, 0, 0, 0, 0, 0, 1, 1, 1, 0, 0, 1, 1],\n",
    "    [0, 0, 0, 0, 0, 0, 0, 1, 1, 1, 1, 0, 0, 1],\n",
    "    [0, 0, 0, 0, 0, 0, 0, 1, 1, 1, 1, 1, 0, 0],\n",
    "    [0, 0, 0, 0, 0, 0, 0, 0, 1, 1, 1, 1, 1, 0],\n",
    "    [0, 0, 0, 0, 0, 0, 0, 0, 0, 1, 1, 1, 1, 1],\n",
    "]\n",
    "regularNeedByDay = []\n",
    "for i in range(len(regularPeopleByDay)):\n",
    "    regularPeopleByDay[i] = np.concatenate(\n",
    "        (np.array(regularPeopleByDay[i]),\n",
    "         np.zeros(len(regularPeopleByDay) * 2))\n",
    "    )\n",
    "    regularNeedByDay.append(\n",
    "        min(need[i][\"morning\"] if i < len(need)\n",
    "            else need[i - len(need)][\"evening\"])\n",
    "    )\n",
    "regularPeopleByDay = np.array(regularPeopleByDay) * -1\n",
    "regularNeedByDay = np.array(regularNeedByDay) * -1"
   ]
  },
  {
   "cell_type": "code",
   "execution_count": 22,
   "metadata": {},
   "outputs": [],
   "source": [
    "temporaryPeopleByDay = np.array([])\n",
    "temporaryNeedByDay = []\n",
    "day = [\n",
    "    [1, 0, 0, 0],\n",
    "    [0, 1, 0, 0],\n",
    "    [0, 0, 1, 0],\n",
    "    [0, 0, 0, 1],\n",
    "]\n",
    "for i in range(len(need)):\n",
    "    for j in range(len(day)):\n",
    "        weekDayRow = np.concatenate(\n",
    "            (np.zeros(len(regularPeopleByDay) + i * 4), np.array(day[j]), np.zeros((len(need) - 1 - i) * 4))\n",
    "        )\n",
    "        temporaryPeopleByDay = np.copy(weekDayRow) if (i == 0 and j == 0) else np.vstack((temporaryPeopleByDay, weekDayRow))\n",
    "        weekDayNeed = need[i][\"morning\"] if j < 2 else need[i][\"evening\"]\n",
    "        temporaryNeedByDay.append(weekDayNeed[j%2] - min(weekDayNeed))\n",
    "temporaryPeopleByDay *= -1\n",
    "temporaryNeedByDay = np.array(temporaryNeedByDay) * -1"
   ]
  },
  {
   "cell_type": "code",
   "execution_count": 23,
   "metadata": {},
   "outputs": [],
   "source": [
    "notNegativeAmount = np.array([])\n",
    "amountOfX = len(regularPeopleByDay[0])\n",
    "for i in range(amountOfX):\n",
    "    row = np.concatenate((np.zeros(i), np.array([-1]), np.zeros(amountOfX - i - 1)))\n",
    "    notNegativeAmount = np.copy(row) if (i == 0) else np.vstack((notNegativeAmount, row))"
   ]
  },
  {
   "cell_type": "code",
   "execution_count": 24,
   "metadata": {},
   "outputs": [
    {
     "name": "stdout",
     "output_type": "stream",
     "text": [
      "[320. 320. 320. 320. 320. 320. 320. 320. 320. 320. 320. 320. 320. 320.\n",
      " 380. 380. 380. 380. 380. 380. 380. 380. 380. 380. 380. 380. 380. 380.\n",
      " 380. 380. 380. 380. 380. 380. 380. 380. 380. 380. 380. 380. 380. 380.]\n"
     ]
    }
   ],
   "source": [
    "cost = np.concatenate((np.full(len(regularPeopleByDay), regularHourPayment), np.full(len(temporaryPeopleByDay), temporaryHourPayment)))"
   ]
  },
  {
   "cell_type": "code",
   "execution_count": null,
   "metadata": {},
   "outputs": [],
   "source": []
  }
 ],
 "metadata": {
  "kernelspec": {
   "display_name": "Python 3",
   "language": "python",
   "name": "python3"
  },
  "language_info": {
   "codemirror_mode": {
    "name": "ipython",
    "version": 3
   },
   "file_extension": ".py",
   "mimetype": "text/x-python",
   "name": "python",
   "nbconvert_exporter": "python",
   "pygments_lexer": "ipython3",
   "version": "3.9.2"
  },
  "orig_nbformat": 4
 },
 "nbformat": 4,
 "nbformat_minor": 2
}
