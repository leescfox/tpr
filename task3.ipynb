{
 "cells": [
  {
   "cell_type": "code",
   "execution_count": 633,
   "metadata": {},
   "outputs": [],
   "source": [
    "import math\n",
    "import numpy as np\n",
    "from cvxopt import matrix, glpk\n",
    "from prettytable import PrettyTable\n",
    "\n",
    "import sys\n",
    "\n",
    "np.set_printoptions(threshold=sys.maxsize)"
   ]
  },
  {
   "cell_type": "code",
   "execution_count": 634,
   "metadata": {},
   "outputs": [],
   "source": [
    "need = [\n",
    "    {\"morning\": [8, 8], \"evening\": [7, 6]},  # monday\n",
    "    {\"morning\": [6, 5], \"evening\": [4, 5]},  # tuesday\n",
    "    {\"morning\": [6, 5], \"evening\": [4, 4]},  # wednesday\n",
    "    {\"morning\": [5, 6], \"evening\": [6, 7]},  # thursday\n",
    "    {\"morning\": [7, 8], \"evening\": [8, 9]},  # friday\n",
    "    {\"morning\": [9, 8], \"evening\": [7, 6]},  # saturday\n",
    "    {\"morning\": [6, 5], \"evening\": [4, 4]},  # sunday\n",
    "]\n",
    "daysToWork = 5\n",
    "regularMonthPayment = 51200\n",
    "temporaryHourPayment = 380"
   ]
  },
  {
   "cell_type": "code",
   "execution_count": 635,
   "metadata": {},
   "outputs": [],
   "source": [
    "regularPeopleByDay = [\n",
    "    [1, 0, 0, 1, 1, 1, 1, 0, 0, 0, 0, 0, 0, 0],\n",
    "    [1, 1, 0, 0, 1, 1, 1, 0, 0, 0, 0, 0, 0, 0],\n",
    "    [1, 1, 1, 0, 0, 1, 1, 0, 0, 0, 0, 0, 0, 0],\n",
    "    [1, 1, 1, 1, 0, 0, 1, 0, 0, 0, 0, 0, 0, 0],\n",
    "    [1, 1, 1, 1, 1, 0, 0, 0, 0, 0, 0, 0, 0, 0],\n",
    "    [0, 1, 1, 1, 1, 1, 0, 0, 0, 0, 0, 0, 0, 0],\n",
    "    [0, 0, 1, 1, 1, 1, 1, 0, 0, 0, 0, 0, 0, 0],\n",
    "    #\n",
    "    [0, 0, 0, 0, 0, 0, 0, 1, 0, 0, 1, 1, 1, 1],\n",
    "    [0, 0, 0, 0, 0, 0, 0, 1, 1, 0, 0, 1, 1, 1],\n",
    "    [0, 0, 0, 0, 0, 0, 0, 1, 1, 1, 0, 0, 1, 1],\n",
    "    [0, 0, 0, 0, 0, 0, 0, 1, 1, 1, 1, 0, 0, 1],\n",
    "    [0, 0, 0, 0, 0, 0, 0, 1, 1, 1, 1, 1, 0, 0],\n",
    "    [0, 0, 0, 0, 0, 0, 0, 0, 1, 1, 1, 1, 1, 0],\n",
    "    [0, 0, 0, 0, 0, 0, 0, 0, 0, 1, 1, 1, 1, 1],\n",
    "]\n",
    "regularNeedByDay = []\n",
    "for i in range(len(regularPeopleByDay)):\n",
    "    regularPeopleByDay[i] = np.concatenate(\n",
    "        (np.array(regularPeopleByDay[i]), np.zeros(len(regularPeopleByDay) * 2))\n",
    "    )\n",
    "    regularNeedByDay.append(\n",
    "        min(need[i][\"morning\"] if i < len(need) else need[i - len(need)][\"evening\"])\n",
    "    )\n",
    "regularPeopleByDay = np.array(regularPeopleByDay) * -1\n",
    "regularNeedByDay = np.array(regularNeedByDay) * -1"
   ]
  },
  {
   "cell_type": "code",
   "execution_count": 636,
   "metadata": {},
   "outputs": [],
   "source": [
    "temporaryPeopleByDay = np.array([])\n",
    "temporaryNeedByDay = []\n",
    "day = [\n",
    "    [1, 0, 0, 0],\n",
    "    [0, 1, 0, 0],\n",
    "    [0, 0, 1, 0],\n",
    "    [0, 0, 0, 1],\n",
    "]\n",
    "for i in range(len(need)):\n",
    "    for j in range(len(day)):\n",
    "        weekDayRow = np.concatenate(\n",
    "            (\n",
    "                np.zeros(len(regularPeopleByDay) + i * 4),\n",
    "                np.array(day[j]),\n",
    "                np.zeros((len(need) - 1 - i) * 4),\n",
    "            )\n",
    "        )\n",
    "        temporaryPeopleByDay = (\n",
    "            np.copy(weekDayRow)\n",
    "            if (i == 0 and j == 0)\n",
    "            else np.vstack((temporaryPeopleByDay, weekDayRow))\n",
    "        )\n",
    "        weekDayNeed = need[i][\"morning\"] if j < 2 else need[i][\"evening\"]\n",
    "        temporaryNeedByDay.append(weekDayNeed[j % 2] - min(weekDayNeed))\n",
    "temporaryPeopleByDay *= -1\n",
    "temporaryNeedByDay = np.array(temporaryNeedByDay) * -1"
   ]
  },
  {
   "cell_type": "code",
   "execution_count": 637,
   "metadata": {},
   "outputs": [],
   "source": [
    "notNegativeAmount = np.array([])\n",
    "amountOfX = len(regularPeopleByDay[0])\n",
    "for i in range(amountOfX):\n",
    "    row = np.concatenate((np.zeros(i), np.array([-1]), np.zeros(amountOfX - i - 1)))\n",
    "    notNegativeAmount = (\n",
    "        np.copy(row) if (i == 0) else np.vstack((notNegativeAmount, row))\n",
    "    )"
   ]
  },
  {
   "cell_type": "code",
   "execution_count": 638,
   "metadata": {},
   "outputs": [],
   "source": [
    "regularHourPayment = regularMonthPayment / 4 / 40\n",
    "cost = np.concatenate(\n",
    "    (\n",
    "        np.full(len(regularPeopleByDay), regularHourPayment),\n",
    "        np.full(len(temporaryPeopleByDay), temporaryHourPayment),\n",
    "    )\n",
    ")"
   ]
  },
  {
   "cell_type": "code",
   "execution_count": 639,
   "metadata": {},
   "outputs": [],
   "source": [
    "targetFunction = matrix(cost, tc='d').T\n",
    "inequalityLeft = matrix(\n",
    "    [\n",
    "        [matrix(regularPeopleByDay).T],\n",
    "        [matrix(temporaryPeopleByDay).T],\n",
    "        [matrix(notNegativeAmount).T],\n",
    "    ], tc='d'\n",
    ").T\n",
    "inequalityRight = matrix(\n",
    "    [\n",
    "        [matrix(regularNeedByDay).T],\n",
    "        [matrix(temporaryNeedByDay).T],\n",
    "        [matrix(np.zeros(len(notNegativeAmount))).T],\n",
    "    ], tc='d'\n",
    ").T"
   ]
  },
  {
   "cell_type": "code",
   "execution_count": 640,
   "metadata": {},
   "outputs": [],
   "source": [
    "(status, x) = glpk.ilp(\n",
    "    c=targetFunction, G=inequalityLeft, h=inequalityRight, I=set(range(len(targetFunction)))\n",
    ")"
   ]
  },
  {
   "cell_type": "code",
   "execution_count": 641,
   "metadata": {},
   "outputs": [
    {
     "name": "stdout",
     "output_type": "stream",
     "text": [
      "optimal\n",
      "1.0 2.0 0.0 1.0 3.0 2.0 1.0 \n",
      "2.0 2.0 0.0 4.0 0.0 0.0 0.0 \n",
      "\n",
      "0.0 0.0 1.0 0.0 1.0 0.0 0.0 \n",
      "1.0 1.0 0.0 0.0 0.0 0.0 1.0 \n",
      "0.0 1.0 0.0 1.0 0.0 1.0 1.0 \n",
      "0.0 1.0 0.0 1.0 0.0 0.0 0.0 \n"
     ]
    }
   ],
   "source": [
    "print(status)\n",
    "print(x)\n",
    "for i in range(len(need) - 1):\n",
    "    for j in range(i*len(need), (i+1)*len(need)):\n",
    "        print(x[j], end=' ')\n",
    "        if j == 13:\n",
    "            print('')\n",
    "    print()"
   ]
  },
  {
   "cell_type": "code",
   "execution_count": null,
   "metadata": {},
   "outputs": [],
   "source": [
    "weekDays = [\"Понедельник\", \"Вторник\", \"Среда\", \"Четверг\", \"Пятница\", \"Суббота\", \"Воскресенье\"]\n",
    "def printResult(resultStatus, resultArray):\n",
    "    print(f\"Статус: {resultStatus}\")\n",
    "    if resultStatus == 'optimal':\n",
    "        print(\"График выхода работников:\")\n",
    "        table = PrettyTable([\"День недели\", \"7:00 - 15:00\", \"15:00 - 23:00\"])\n",
    "        table.add_row([weekDays, ])\n",
    "    else:\n",
    "        print(\"Оптимальное решение не было найдено.\")"
   ]
  },
  {
   "cell_type": "code",
   "execution_count": 642,
   "metadata": {},
   "outputs": [
    {
     "name": "stdout",
     "output_type": "stream",
     "text": [
      "[-8 -5 -5 -5 -7 -8 -5 -6 -4 -4 -6 -8 -6 -4]\n"
     ]
    }
   ],
   "source": [
    "print(regularNeedByDay)"
   ]
  }
 ],
 "metadata": {
  "kernelspec": {
   "display_name": "Python 3",
   "language": "python",
   "name": "python3"
  },
  "language_info": {
   "codemirror_mode": {
    "name": "ipython",
    "version": 3
   },
   "file_extension": ".py",
   "mimetype": "text/x-python",
   "name": "python",
   "nbconvert_exporter": "python",
   "pygments_lexer": "ipython3",
   "version": "3.9.2"
  },
  "orig_nbformat": 4
 },
 "nbformat": 4,
 "nbformat_minor": 2
}
