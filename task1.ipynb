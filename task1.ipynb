{
 "cells": [
  {
   "attachments": {},
   "cell_type": "markdown",
   "metadata": {},
   "source": [
    "### Выполним постановку задачи:\n",
    "\n",
    "$x_{ij}$ - переменная, равная количеству постоянных работников, которые в $i$-ую(утреннюю/ночную) смену в $j$-ый день недели начали свою рабочую неделю, т.е вышли после выходных;<br>\n",
    "$x_{ijk}$ - переменная, равная количеству временных работников, которые в $i$-ую(утреннюю/ночную) смену в $j$-ый день недели в $k$-ую(первую/вторую) половину смены были привлечены к работе;<br>\n",
    "$c_{r}$ - недельная плата постоянных работников;<br>\n",
    "$c_{t}$ - недельная плата временных работников;<br>\n",
    "Множество работающих в текущий день постоянных сотрудников $M = \\{1, 4, 5, 6, 7\\}$ при $j = 1$; $\\{1, 2, 5, 6, 7\\}$ при $j = 2$; $\\{1, 2, 3, 6, 7\\}$ при $j = 3$; $\\{1, 2, 3, 4, 7\\}$ при $j = 4$; $\\{1, 2, 3, 4, 5\\}$ при $j = 5$; $\\{2, 3, 4, 5, 6\\}$ при $j = 6$; $\\{3, 4, 5, 6, 7\\}$ при $j = 7$.<br>\n",
    "\n",
    "То есть, например, при $j=1$, т.е в понедельник, множество работающих в текущий день постоянных сотрудников M - это сотрудники, вышедшие в понедельник и в предыдущие четыре дня: воскресенье(7), субботу(6), пятницу(5), четверг(4).\n",
    "\n",
    "Целевая функция:\n",
    "$\\displaystyle\\sum_{i=1}^2\\displaystyle\\sum_{j=1}^7{c_{r}*x_{ij}} + \\displaystyle\\sum_{i=1}^2\\displaystyle\\sum_{j=1}^7\\displaystyle\\sum_{k=1}^2 {c_{t}*x_{ijk}} \\to min$<br>\n",
    "Ограничения:<br>\n",
    "\n",
    "$x_{ij} \\geq 0$ для всех $i$, для всех $j$<br>\n",
    "\n",
    "$x_{ijk} \\geq 0$ для всех $i$, для всех $j$, для всех $k$<br>\n",
    "\n",
    "$(\\displaystyle\\sum_{m \\in M}x_{im}) + {x_{ijk}}$ для всех $i$, для всех $j$(помним, что каждому $j$ соответствует своё множество $M$), и для всех $k$<br>\n"
   ]
  },
  {
   "cell_type": "code",
   "execution_count": 14,
   "metadata": {},
   "outputs": [],
   "source": [
    "import math\n",
    "import numpy as np\n",
    "from cvxopt import matrix, glpk\n",
    "from prettytable import PrettyTable\n",
    "\n",
    "import sys\n",
    "\n",
    "np.set_printoptions(threshold=sys.maxsize)\n"
   ]
  },
  {
   "cell_type": "code",
   "execution_count": 15,
   "metadata": {},
   "outputs": [],
   "source": [
    "need = [\n",
    "    {\"morning\": [8, 8], \"evening\": [7, 6]},  # monday\n",
    "    {\"morning\": [6, 5], \"evening\": [4, 5]},  # tuesday\n",
    "    {\"morning\": [6, 5], \"evening\": [4, 4]},  # wednesday\n",
    "    {\"morning\": [5, 6], \"evening\": [6, 7]},  # thursday\n",
    "    {\"morning\": [7, 8], \"evening\": [8, 9]},  # friday\n",
    "    {\"morning\": [9, 8], \"evening\": [7, 6]},  # saturday\n",
    "    {\"morning\": [6, 5], \"evening\": [4, 4]},  # sunday\n",
    "]\n",
    "daysToWork = 5\n",
    "regularMonthPayment = 51200\n",
    "temporaryHourPayment = 380\n",
    "weekDays = [\n",
    "    \"Понедельник\",\n",
    "    \"Вторник\",\n",
    "    \"Среда\",\n",
    "    \"Четверг\",\n",
    "    \"Пятница\",\n",
    "    \"Суббота\",\n",
    "    \"Воскресенье\",\n",
    "]\n"
   ]
  },
  {
   "cell_type": "code",
   "execution_count": 16,
   "metadata": {},
   "outputs": [],
   "source": [
    "regularPeopleByDay = [\n",
    "    [1, 0, 0, 1, 1, 1, 1, 0, 0, 0, 0, 0, 0, 0],\n",
    "    [1, 1, 0, 0, 1, 1, 1, 0, 0, 0, 0, 0, 0, 0],\n",
    "    [1, 1, 1, 0, 0, 1, 1, 0, 0, 0, 0, 0, 0, 0],\n",
    "    [1, 1, 1, 1, 0, 0, 1, 0, 0, 0, 0, 0, 0, 0],\n",
    "    [1, 1, 1, 1, 1, 0, 0, 0, 0, 0, 0, 0, 0, 0],\n",
    "    [0, 1, 1, 1, 1, 1, 0, 0, 0, 0, 0, 0, 0, 0],\n",
    "    [0, 0, 1, 1, 1, 1, 1, 0, 0, 0, 0, 0, 0, 0],\n",
    "    #\n",
    "    [0, 0, 0, 0, 0, 0, 0, 1, 0, 0, 1, 1, 1, 1],\n",
    "    [0, 0, 0, 0, 0, 0, 0, 1, 1, 0, 0, 1, 1, 1],\n",
    "    [0, 0, 0, 0, 0, 0, 0, 1, 1, 1, 0, 0, 1, 1],\n",
    "    [0, 0, 0, 0, 0, 0, 0, 1, 1, 1, 1, 0, 0, 1],\n",
    "    [0, 0, 0, 0, 0, 0, 0, 1, 1, 1, 1, 1, 0, 0],\n",
    "    [0, 0, 0, 0, 0, 0, 0, 0, 1, 1, 1, 1, 1, 0],\n",
    "    [0, 0, 0, 0, 0, 0, 0, 0, 0, 1, 1, 1, 1, 1],\n",
    "]"
   ]
  },
  {
   "cell_type": "code",
   "execution_count": 17,
   "metadata": {},
   "outputs": [],
   "source": [
    "temporaryPeopleByDay = np.array([])\n",
    "amount = len(regularPeopleByDay) * 2\n",
    "for i in range(amount):\n",
    "    row = np.concatenate(\n",
    "        (\n",
    "            np.zeros(i),\n",
    "            np.array([1]),\n",
    "            np.zeros(amount - i - 1),\n",
    "        )\n",
    "    )\n",
    "    temporaryPeopleByDay = (\n",
    "        np.copy(row) if i == 0 else np.vstack((temporaryPeopleByDay, row))\n",
    "    )\n"
   ]
  },
  {
   "cell_type": "code",
   "execution_count": 18,
   "metadata": {},
   "outputs": [],
   "source": [
    "regularAndTemporaryCombined = []\n",
    "for i in range(len(regularPeopleByDay)):\n",
    "    row1 = np.concatenate(\n",
    "        (np.array(regularPeopleByDay[i]), temporaryPeopleByDay[i * 2])\n",
    "    )\n",
    "    row2 = np.concatenate(\n",
    "        (np.array(regularPeopleByDay[i]), temporaryPeopleByDay[i * 2 + 1])\n",
    "    )\n",
    "    shift = np.vstack((row1, row2))\n",
    "    regularAndTemporaryCombined = (\n",
    "        np.copy(shift) if i == 0 else np.vstack(\n",
    "            (regularAndTemporaryCombined, shift))\n",
    "    )"
   ]
  },
  {
   "cell_type": "code",
   "execution_count": 19,
   "metadata": {},
   "outputs": [],
   "source": [
    "peopleNeed = []\n",
    "for i in range(len(need)):\n",
    "    peopleNeed.extend([need[i][\"morning\"][0], need[i][\"morning\"][1]])\n",
    "for i in range(len(need)):\n",
    "    peopleNeed.extend([need[i][\"evening\"][0], need[i][\"evening\"][1]])"
   ]
  },
  {
   "cell_type": "code",
   "execution_count": 20,
   "metadata": {},
   "outputs": [],
   "source": [
    "notNegativeAmount = np.eye(len(regularPeopleByDay) + len(temporaryPeopleByDay))"
   ]
  },
  {
   "cell_type": "code",
   "execution_count": 21,
   "metadata": {},
   "outputs": [],
   "source": [
    "regularWeekPayment = regularMonthPayment / 4\n",
    "temporaryWeekPayment = temporaryHourPayment * 4\n",
    "\n",
    "cost = np.concatenate(\n",
    "    (\n",
    "        np.full(len(regularPeopleByDay), regularWeekPayment),\n",
    "        np.full(len(temporaryPeopleByDay), temporaryWeekPayment),\n",
    "    )\n",
    ")\n"
   ]
  },
  {
   "cell_type": "code",
   "execution_count": 22,
   "metadata": {},
   "outputs": [],
   "source": [
    "targetFunction = matrix(cost, tc=\"d\").T\n",
    "inequalityLeft = matrix(\n",
    "    [\n",
    "        [matrix(-1 * regularAndTemporaryCombined).T],\n",
    "        [matrix(-1 * notNegativeAmount).T],\n",
    "    ],\n",
    "    tc=\"d\",\n",
    ").T\n",
    "inequalityRight = matrix(\n",
    "    [\n",
    "        [matrix(-1 * np.array(peopleNeed)).T],\n",
    "        [matrix(np.zeros(len(notNegativeAmount))).T],\n",
    "    ],\n",
    "    tc=\"d\",\n",
    ").T"
   ]
  },
  {
   "cell_type": "code",
   "execution_count": 23,
   "metadata": {},
   "outputs": [],
   "source": [
    "(status, x) = glpk.ilp(\n",
    "    c=targetFunction,\n",
    "    G=inequalityLeft,\n",
    "    h=inequalityRight,\n",
    "    I=set(range(len(targetFunction))),\n",
    ")\n",
    "result = np.array([*x.T]).astype(int)\n"
   ]
  },
  {
   "cell_type": "code",
   "execution_count": 24,
   "metadata": {},
   "outputs": [],
   "source": [
    "def printResult(resultStatus, resultArray):\n",
    "    print(f\"Статус: {resultStatus}\")\n",
    "    if resultStatus == \"optimal\":\n",
    "        regularsTable = PrettyTable(\n",
    "            [\"День недели\", \"7:00 - 15:00\", \"15:00 - 23:00\"])\n",
    "        for i in range(len(weekDays)):\n",
    "            regularsTable.add_row(\n",
    "                [weekDays[i], resultArray[i], resultArray[i + len(weekDays)]]\n",
    "            )\n",
    "        print(\"График выхода постоянных работников:\")\n",
    "        print(regularsTable, end=\"\\n\\n\")\n",
    "\n",
    "        temporariesTable = PrettyTable(\n",
    "            [\n",
    "                \"День недели\",\n",
    "                \"7:00 - 11:00\",\n",
    "                \"11:00 - 15:00\",\n",
    "                \"15:00 - 19:00\",\n",
    "                \"19:00 - 23:00\",\n",
    "            ]\n",
    "        )\n",
    "        for i in range(len(weekDays)):\n",
    "            index_morning = len(regularPeopleByDay) + i * 2\n",
    "            index_evening = len(regularPeopleByDay) + len(weekDays) * 2 + i * 2\n",
    "            temporariesTable.add_row(\n",
    "                [\n",
    "                    weekDays[i],\n",
    "                    resultArray[index_morning],\n",
    "                    resultArray[index_morning + 1],\n",
    "                    resultArray[index_evening],\n",
    "                    resultArray[index_evening + 1],\n",
    "                ]\n",
    "            )\n",
    "        print(\"График выхода временных работников:\")\n",
    "        print(temporariesTable, end=\"\\n\\n\")\n",
    "    else:\n",
    "        print(\"Оптимальное решение не было найдено.\")"
   ]
  },
  {
   "cell_type": "code",
   "execution_count": 25,
   "metadata": {},
   "outputs": [],
   "source": [
    "def amountOfWorkersPresent(rows, col):\n",
    "    workersByHours = np.matmul(rows, col).astype(int)\n",
    "    workersTable = PrettyTable(\n",
    "        [\n",
    "            \"День недели\",\n",
    "            \"7:00 - 11:00\",\n",
    "            \"11:00 - 15:00\",\n",
    "            \"15:00 - 19:00\",\n",
    "            \"19:00 - 23:00\",\n",
    "        ]\n",
    "    )\n",
    "    for i in range(len(weekDays)):\n",
    "        index_morning = i * 2\n",
    "        index_evening = len(weekDays) * 2 + i * 2\n",
    "        workersTable.add_row(\n",
    "            [\n",
    "                weekDays[i],\n",
    "                workersByHours[index_morning],\n",
    "                workersByHours[index_morning + 1],\n",
    "                workersByHours[index_evening],\n",
    "                workersByHours[index_evening + 1],\n",
    "            ]\n",
    "        )\n",
    "    print(\"Количество работающих в текущий момент сотрудников на каждые 4 часа:\")\n",
    "    print(workersTable)"
   ]
  },
  {
   "cell_type": "code",
   "execution_count": 26,
   "metadata": {},
   "outputs": [
    {
     "name": "stdout",
     "output_type": "stream",
     "text": [
      "Статус: optimal\n",
      "График выхода постоянных работников:\n",
      "+-------------+--------------+---------------+\n",
      "| День недели | 7:00 - 15:00 | 15:00 - 23:00 |\n",
      "+-------------+--------------+---------------+\n",
      "| Понедельник |      0       |       3       |\n",
      "|   Вторник   |      3       |       0       |\n",
      "|    Среда    |      1       |       1       |\n",
      "|   Четверг   |      1       |       2       |\n",
      "|   Пятница   |      2       |       1       |\n",
      "|   Суббота   |      1       |       0       |\n",
      "| Воскресенье |      0       |       0       |\n",
      "+-------------+--------------+---------------+\n",
      "\n",
      "График выхода временных работников:\n",
      "+-------------+--------------+---------------+---------------+---------------+\n",
      "| День недели | 7:00 - 11:00 | 11:00 - 15:00 | 15:00 - 19:00 | 19:00 - 23:00 |\n",
      "+-------------+--------------+---------------+---------------+---------------+\n",
      "| Понедельник |      4       |       4       |       1       |       0       |\n",
      "|   Вторник   |      0       |       0       |       0       |       1       |\n",
      "|    Среда    |      1       |       0       |       0       |       0       |\n",
      "|   Четверг   |      0       |       1       |       0       |       1       |\n",
      "|   Пятница   |      0       |       1       |       1       |       2       |\n",
      "|   Суббота   |      1       |       0       |       3       |       2       |\n",
      "| Воскресенье |      1       |       0       |       0       |       0       |\n",
      "+-------------+--------------+---------------+---------------+---------------+\n",
      "\n",
      "Количество работающих в текущий момент сотрудников на каждые 4 часа:\n",
      "+-------------+--------------+---------------+---------------+---------------+\n",
      "| День недели | 7:00 - 11:00 | 11:00 - 15:00 | 15:00 - 19:00 | 19:00 - 23:00 |\n",
      "+-------------+--------------+---------------+---------------+---------------+\n",
      "| Понедельник |      8       |       8       |       7       |       6       |\n",
      "|   Вторник   |      6       |       6       |       4       |       5       |\n",
      "|    Среда    |      6       |       5       |       4       |       4       |\n",
      "|   Четверг   |      5       |       6       |       6       |       7       |\n",
      "|   Пятница   |      7       |       8       |       8       |       9       |\n",
      "|   Суббота   |      9       |       8       |       7       |       6       |\n",
      "| Воскресенье |      6       |       5       |       4       |       4       |\n",
      "+-------------+--------------+---------------+---------------+---------------+\n"
     ]
    }
   ],
   "source": [
    "printResult(status, result)\n",
    "amountOfWorkersPresent(regularAndTemporaryCombined, result)\n"
   ]
  }
 ],
 "metadata": {
  "kernelspec": {
   "display_name": "Python 3",
   "language": "python",
   "name": "python3"
  },
  "language_info": {
   "codemirror_mode": {
    "name": "ipython",
    "version": 3
   },
   "file_extension": ".py",
   "mimetype": "text/x-python",
   "name": "python",
   "nbconvert_exporter": "python",
   "pygments_lexer": "ipython3",
   "version": "3.9.2"
  },
  "orig_nbformat": 4
 },
 "nbformat": 4,
 "nbformat_minor": 2
}
